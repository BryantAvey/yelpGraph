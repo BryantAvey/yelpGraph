{
 "cells": [
  {
   "cell_type": "code",
   "execution_count": 1,
   "metadata": {},
   "outputs": [],
   "source": [
    "# https://github.com/susanli2016/NLP-with-Python/blob/master/Doc2Vec%20Consumer%20Complaint_3.ipynb\n",
    "\n",
    "import pyTigerGraph as tg \n",
    "from pyTigerGraph import gsql\n",
    "from pyTigerGraph import graphToDataFrame\n",
    "\n",
    "conn = tg.TigerGraphConnection(graphname=\"Yelp\")\n",
    "shell = gsql.Gsql(conn, certNeeded=False)\n",
    "\n",
    "#conn.apiToken = conn.getToken(shell.createSecret())\n",
    "tgDf = graphToDataFrame.graphToDataFrame(conn)"
   ]
  },
  {
   "cell_type": "code",
   "execution_count": 2,
   "metadata": {},
   "outputs": [],
   "source": [
    "import pandas as pd \n",
    "import numpy as np \n",
    "\n",
    "from gensim.models import Doc2Vec\n",
    "import gensim\n",
    "from gensim.models.doc2vec import TaggedDocument"
   ]
  },
  {
   "cell_type": "code",
   "execution_count": 3,
   "metadata": {},
   "outputs": [
    {
     "output_type": "execute_result",
     "data": {
      "text/plain": "                     v_id  v_type  Stars  Useful  Funny  Cool  \\\n0  VUPQUArwOPNQsQZ-eIAJGQ  Review      4       1      0     0   \n1  dAvzp4bpMqwmP6WPK4zAzA  Review      3       0      0     0   \n2  Zvx1qa_VvdX-dZmUMj-6vQ  Review      4       0      0     0   \n3  VX_t0CoEqswArOh65-j1PA  Review      3       3      0     0   \n4  Pg7mjTzfQpKko4_mrGY39A  Review      5       3      1     1   \n\n                                                Text         DateOfReview  \\\n0  Really amazing service! Our garage spring brok...  2012-10-08 22:32:36   \n1  at least the portions are big....the food is o...  2010-11-22 05:08:15   \n2  Not sure if I saw anything related to a 'baker...  2011-04-22 00:02:27   \n3  I have to agree with most of the reviewers on ...  2010-05-15 16:39:01   \n4  Fast service the woman who did my hair was gre...  2011-04-25 04:55:20   \n\n   Testing                                           Features  \n0    False  [-0.17631, -0.10613, 0.62154, -0.20819, -0.106...  \n1     True  [-0.24622, -0.07173, 0.56835, -0.19758, -0.112...  \n2    False  [-0.20724, -0.09201, 0.60906, -0.22314, -0.124...  \n3    False  [-0.23609, -0.10467, 0.66664, -0.24914, -0.144...  \n4    False  [-0.21369, -0.11698, 0.61554, -0.19465, -0.105...  ",
      "text/html": "<div>\n<style scoped>\n    .dataframe tbody tr th:only-of-type {\n        vertical-align: middle;\n    }\n\n    .dataframe tbody tr th {\n        vertical-align: top;\n    }\n\n    .dataframe thead th {\n        text-align: right;\n    }\n</style>\n<table border=\"1\" class=\"dataframe\">\n  <thead>\n    <tr style=\"text-align: right;\">\n      <th></th>\n      <th>v_id</th>\n      <th>v_type</th>\n      <th>Stars</th>\n      <th>Useful</th>\n      <th>Funny</th>\n      <th>Cool</th>\n      <th>Text</th>\n      <th>DateOfReview</th>\n      <th>Testing</th>\n      <th>Features</th>\n    </tr>\n  </thead>\n  <tbody>\n    <tr>\n      <th>0</th>\n      <td>VUPQUArwOPNQsQZ-eIAJGQ</td>\n      <td>Review</td>\n      <td>4</td>\n      <td>1</td>\n      <td>0</td>\n      <td>0</td>\n      <td>Really amazing service! Our garage spring brok...</td>\n      <td>2012-10-08 22:32:36</td>\n      <td>False</td>\n      <td>[-0.17631, -0.10613, 0.62154, -0.20819, -0.106...</td>\n    </tr>\n    <tr>\n      <th>1</th>\n      <td>dAvzp4bpMqwmP6WPK4zAzA</td>\n      <td>Review</td>\n      <td>3</td>\n      <td>0</td>\n      <td>0</td>\n      <td>0</td>\n      <td>at least the portions are big....the food is o...</td>\n      <td>2010-11-22 05:08:15</td>\n      <td>True</td>\n      <td>[-0.24622, -0.07173, 0.56835, -0.19758, -0.112...</td>\n    </tr>\n    <tr>\n      <th>2</th>\n      <td>Zvx1qa_VvdX-dZmUMj-6vQ</td>\n      <td>Review</td>\n      <td>4</td>\n      <td>0</td>\n      <td>0</td>\n      <td>0</td>\n      <td>Not sure if I saw anything related to a 'baker...</td>\n      <td>2011-04-22 00:02:27</td>\n      <td>False</td>\n      <td>[-0.20724, -0.09201, 0.60906, -0.22314, -0.124...</td>\n    </tr>\n    <tr>\n      <th>3</th>\n      <td>VX_t0CoEqswArOh65-j1PA</td>\n      <td>Review</td>\n      <td>3</td>\n      <td>3</td>\n      <td>0</td>\n      <td>0</td>\n      <td>I have to agree with most of the reviewers on ...</td>\n      <td>2010-05-15 16:39:01</td>\n      <td>False</td>\n      <td>[-0.23609, -0.10467, 0.66664, -0.24914, -0.144...</td>\n    </tr>\n    <tr>\n      <th>4</th>\n      <td>Pg7mjTzfQpKko4_mrGY39A</td>\n      <td>Review</td>\n      <td>5</td>\n      <td>3</td>\n      <td>1</td>\n      <td>1</td>\n      <td>Fast service the woman who did my hair was gre...</td>\n      <td>2011-04-25 04:55:20</td>\n      <td>False</td>\n      <td>[-0.21369, -0.11698, 0.61554, -0.19465, -0.105...</td>\n    </tr>\n  </tbody>\n</table>\n</div>"
     },
     "metadata": {},
     "execution_count": 3
    }
   ],
   "source": [
    "df = tgDf.getVertexDataframe(\"Review\")\n",
    "df.head()"
   ]
  },
  {
   "cell_type": "code",
   "execution_count": 4,
   "metadata": {},
   "outputs": [
    {
     "output_type": "execute_result",
     "data": {
      "text/plain": "(6911, 10)"
     },
     "metadata": {},
     "execution_count": 4
    }
   ],
   "source": [
    "df.shape"
   ]
  },
  {
   "cell_type": "code",
   "execution_count": 5,
   "metadata": {},
   "outputs": [],
   "source": [
    "cols = ['Stars', 'Useful', 'Funny', 'Cool', 'Text', 'DateOfReview']\n",
    "df['combined'] = df[cols].apply(lambda row: \" \".join(row.values.astype(str)), axis=1)"
   ]
  },
  {
   "cell_type": "code",
   "execution_count": 6,
   "metadata": {},
   "outputs": [
    {
     "output_type": "execute_result",
     "data": {
      "text/plain": "                     v_id  v_type  Stars  Useful  Funny  Cool  \\\n0  VUPQUArwOPNQsQZ-eIAJGQ  Review      4       1      0     0   \n1  dAvzp4bpMqwmP6WPK4zAzA  Review      3       0      0     0   \n2  Zvx1qa_VvdX-dZmUMj-6vQ  Review      4       0      0     0   \n3  VX_t0CoEqswArOh65-j1PA  Review      3       3      0     0   \n4  Pg7mjTzfQpKko4_mrGY39A  Review      5       3      1     1   \n\n                                                Text         DateOfReview  \\\n0  Really amazing service! Our garage spring brok...  2012-10-08 22:32:36   \n1  at least the portions are big....the food is o...  2010-11-22 05:08:15   \n2  Not sure if I saw anything related to a 'baker...  2011-04-22 00:02:27   \n3  I have to agree with most of the reviewers on ...  2010-05-15 16:39:01   \n4  Fast service the woman who did my hair was gre...  2011-04-25 04:55:20   \n\n   Testing                                           Features  \\\n0    False  [-0.17631, -0.10613, 0.62154, -0.20819, -0.106...   \n1     True  [-0.24622, -0.07173, 0.56835, -0.19758, -0.112...   \n2    False  [-0.20724, -0.09201, 0.60906, -0.22314, -0.124...   \n3    False  [-0.23609, -0.10467, 0.66664, -0.24914, -0.144...   \n4    False  [-0.21369, -0.11698, 0.61554, -0.19465, -0.105...   \n\n                                            combined  \n0  4 1 0 0 Really amazing service! Our garage spr...  \n1  3 0 0 0 at least the portions are big....the f...  \n2  4 0 0 0 Not sure if I saw anything related to ...  \n3  3 3 0 0 I have to agree with most of the revie...  \n4  5 3 1 1 Fast service the woman who did my hair...  ",
      "text/html": "<div>\n<style scoped>\n    .dataframe tbody tr th:only-of-type {\n        vertical-align: middle;\n    }\n\n    .dataframe tbody tr th {\n        vertical-align: top;\n    }\n\n    .dataframe thead th {\n        text-align: right;\n    }\n</style>\n<table border=\"1\" class=\"dataframe\">\n  <thead>\n    <tr style=\"text-align: right;\">\n      <th></th>\n      <th>v_id</th>\n      <th>v_type</th>\n      <th>Stars</th>\n      <th>Useful</th>\n      <th>Funny</th>\n      <th>Cool</th>\n      <th>Text</th>\n      <th>DateOfReview</th>\n      <th>Testing</th>\n      <th>Features</th>\n      <th>combined</th>\n    </tr>\n  </thead>\n  <tbody>\n    <tr>\n      <th>0</th>\n      <td>VUPQUArwOPNQsQZ-eIAJGQ</td>\n      <td>Review</td>\n      <td>4</td>\n      <td>1</td>\n      <td>0</td>\n      <td>0</td>\n      <td>Really amazing service! Our garage spring brok...</td>\n      <td>2012-10-08 22:32:36</td>\n      <td>False</td>\n      <td>[-0.17631, -0.10613, 0.62154, -0.20819, -0.106...</td>\n      <td>4 1 0 0 Really amazing service! Our garage spr...</td>\n    </tr>\n    <tr>\n      <th>1</th>\n      <td>dAvzp4bpMqwmP6WPK4zAzA</td>\n      <td>Review</td>\n      <td>3</td>\n      <td>0</td>\n      <td>0</td>\n      <td>0</td>\n      <td>at least the portions are big....the food is o...</td>\n      <td>2010-11-22 05:08:15</td>\n      <td>True</td>\n      <td>[-0.24622, -0.07173, 0.56835, -0.19758, -0.112...</td>\n      <td>3 0 0 0 at least the portions are big....the f...</td>\n    </tr>\n    <tr>\n      <th>2</th>\n      <td>Zvx1qa_VvdX-dZmUMj-6vQ</td>\n      <td>Review</td>\n      <td>4</td>\n      <td>0</td>\n      <td>0</td>\n      <td>0</td>\n      <td>Not sure if I saw anything related to a 'baker...</td>\n      <td>2011-04-22 00:02:27</td>\n      <td>False</td>\n      <td>[-0.20724, -0.09201, 0.60906, -0.22314, -0.124...</td>\n      <td>4 0 0 0 Not sure if I saw anything related to ...</td>\n    </tr>\n    <tr>\n      <th>3</th>\n      <td>VX_t0CoEqswArOh65-j1PA</td>\n      <td>Review</td>\n      <td>3</td>\n      <td>3</td>\n      <td>0</td>\n      <td>0</td>\n      <td>I have to agree with most of the reviewers on ...</td>\n      <td>2010-05-15 16:39:01</td>\n      <td>False</td>\n      <td>[-0.23609, -0.10467, 0.66664, -0.24914, -0.144...</td>\n      <td>3 3 0 0 I have to agree with most of the revie...</td>\n    </tr>\n    <tr>\n      <th>4</th>\n      <td>Pg7mjTzfQpKko4_mrGY39A</td>\n      <td>Review</td>\n      <td>5</td>\n      <td>3</td>\n      <td>1</td>\n      <td>1</td>\n      <td>Fast service the woman who did my hair was gre...</td>\n      <td>2011-04-25 04:55:20</td>\n      <td>False</td>\n      <td>[-0.21369, -0.11698, 0.61554, -0.19465, -0.105...</td>\n      <td>5 3 1 1 Fast service the woman who did my hair...</td>\n    </tr>\n  </tbody>\n</table>\n</div>"
     },
     "metadata": {},
     "execution_count": 6
    }
   ],
   "source": [
    "df.head()"
   ]
  },
  {
   "cell_type": "code",
   "execution_count": 7,
   "metadata": {},
   "outputs": [],
   "source": [
    "from bs4 import BeautifulSoup\n",
    "import re\n",
    "def cleanText(text):\n",
    "    text = BeautifulSoup(text, \"lxml\").text\n",
    "    text = re.sub(r'\\|\\|\\|', r' ', text) \n",
    "    text = re.sub(r'http\\S+', r'<URL>', text)\n",
    "    text = text.lower()\n",
    "    text = text.replace('x', '')\n",
    "    return text\n",
    "df['combined'] = df['combined'].apply(cleanText)"
   ]
  },
  {
   "cell_type": "code",
   "execution_count": 8,
   "metadata": {},
   "outputs": [],
   "source": [
    "import nltk\n",
    "from nltk.corpus import stopwords\n",
    "def tokenize_text(text):\n",
    "    tokens = []\n",
    "    for sent in nltk.sent_tokenize(text):\n",
    "        for word in nltk.word_tokenize(sent):\n",
    "            if len(word) < 2:\n",
    "                continue\n",
    "            tokens.append(word.lower())\n",
    "    return tokens"
   ]
  },
  {
   "cell_type": "code",
   "execution_count": 9,
   "metadata": {},
   "outputs": [],
   "source": [
    "taggedDf = df.apply(lambda r: TaggedDocument(words=tokenize_text(r['combined']), tags=[r.v_id]), axis=1)"
   ]
  },
  {
   "cell_type": "code",
   "execution_count": 10,
   "metadata": {},
   "outputs": [
    {
     "output_type": "execute_result",
     "data": {
      "text/plain": "TaggedDocument(words=['thought', 'the', 'prices', 'were', 'awesome', 'and', 'the', 'food', 'the', 'food', 'actually', 'impressed', 'me', 'and', \"'m\", 'hard', 'to', 'impress', 'like', '2008-05-27', '08:27:53'], tags=['X0oUoChbouE-YtPLp16G-Q'])"
     },
     "metadata": {},
     "execution_count": 10
    }
   ],
   "source": [
    "taggedDf[20]"
   ]
  },
  {
   "cell_type": "code",
   "execution_count": 11,
   "metadata": {},
   "outputs": [],
   "source": [
    "import multiprocessing\n",
    "\n",
    "cores = multiprocessing.cpu_count()"
   ]
  },
  {
   "cell_type": "code",
   "execution_count": 12,
   "metadata": {
    "tags": []
   },
   "outputs": [
    {
     "output_type": "stream",
     "name": "stderr",
     "text": "100%|██████████| 6911/6911 [00:00<00:00, 2131384.92it/s]\n"
    }
   ],
   "source": [
    "from tqdm import tqdm\n",
    "tqdm.pandas(desc=\"progress-bar\")\n",
    "\n",
    "model_dbow = Doc2Vec(dm=0, vector_size=300, negative=5, hs=0, min_count=2, sample = 0, workers=cores)\n",
    "model_dbow.build_vocab([x for x in tqdm(taggedDf.values)])"
   ]
  },
  {
   "cell_type": "code",
   "execution_count": 13,
   "metadata": {
    "tags": []
   },
   "outputs": [
    {
     "output_type": "stream",
     "name": "stderr",
     "text": "100%|██████████| 6911/6911 [00:00<00:00, 1923479.43it/s]\n100%|██████████| 6911/6911 [00:00<00:00, 3156919.51it/s]\n100%|██████████| 6911/6911 [00:00<00:00, 2651073.25it/s]\n100%|██████████| 6911/6911 [00:00<00:00, 2377724.14it/s]\n100%|██████████| 6911/6911 [00:00<00:00, 2330693.49it/s]\n100%|██████████| 6911/6911 [00:00<00:00, 2547621.28it/s]\n100%|██████████| 6911/6911 [00:00<00:00, 2684463.32it/s]\n100%|██████████| 6911/6911 [00:00<00:00, 2811798.91it/s]\n100%|██████████| 6911/6911 [00:00<00:00, 3314675.24it/s]\n100%|██████████| 6911/6911 [00:00<00:00, 2618030.61it/s]\n100%|██████████| 6911/6911 [00:00<00:00, 2605792.43it/s]\n100%|██████████| 6911/6911 [00:00<00:00, 2855001.96it/s]\n100%|██████████| 6911/6911 [00:00<00:00, 2117527.57it/s]\n100%|██████████| 6911/6911 [00:00<00:00, 2199805.34it/s]\n100%|██████████| 6911/6911 [00:00<00:00, 2360683.68it/s]\n100%|██████████| 6911/6911 [00:00<00:00, 3022925.74it/s]\n100%|██████████| 6911/6911 [00:00<00:00, 2666191.59it/s]\n100%|██████████| 6911/6911 [00:00<00:00, 2899553.36it/s]\n100%|██████████| 6911/6911 [00:00<00:00, 2531159.18it/s]\n100%|██████████| 6911/6911 [00:00<00:00, 2439763.90it/s]\n100%|██████████| 6911/6911 [00:00<00:00, 3197312.48it/s]\n100%|██████████| 6911/6911 [00:00<00:00, 2862614.55it/s]\n100%|██████████| 6911/6911 [00:00<00:00, 2812890.34it/s]\n100%|██████████| 6911/6911 [00:00<00:00, 2893764.10it/s]\n100%|██████████| 6911/6911 [00:00<00:00, 2891743.31it/s]\n100%|██████████| 6911/6911 [00:00<00:00, 2993270.85it/s]\n100%|██████████| 6911/6911 [00:00<00:00, 2871120.74it/s]\n100%|██████████| 6911/6911 [00:00<00:00, 2017036.74it/s]\n100%|██████████| 6911/6911 [00:00<00:00, 2683469.26it/s]\n100%|██████████| 6911/6911 [00:00<00:00, 852378.48it/s]\nCPU times: user 1min 27s, sys: 14.8 s, total: 1min 42s\nWall time: 35.9 s\n"
    }
   ],
   "source": [
    "%%time\n",
    "from sklearn import utils\n",
    "\n",
    "for epoch in range(30):\n",
    "    model_dbow.train(utils.shuffle([x for x in tqdm(taggedDf.values)]), total_examples=len(taggedDf.values), epochs=1)\n",
    "    model_dbow.alpha -= 0.002\n",
    "    model_dbow.min_alpha = model_dbow.alpha"
   ]
  },
  {
   "cell_type": "code",
   "execution_count": 14,
   "metadata": {},
   "outputs": [],
   "source": [
    "def upsertReviewVector(row):\n",
    "    tokenized = tokenize_text(row[\"Text\"])\n",
    "    tagged = TaggedDocument(words=tokenized, tags=[row.v_id])\n",
    "    vec = model_dbow.infer_vector(tagged.words, steps=20).tolist()\n",
    "    conn.upsertVertex(\"Review\", row[\"v_id\"], {\"Features\": vec})"
   ]
  },
  {
   "cell_type": "code",
   "execution_count": 15,
   "metadata": {},
   "outputs": [
    {
     "output_type": "execute_result",
     "data": {
      "text/plain": "0       None\n1       None\n2       None\n3       None\n4       None\n        ... \n6906    None\n6907    None\n6908    None\n6909    None\n6910    None\nLength: 6911, dtype: object"
     },
     "metadata": {},
     "execution_count": 15
    }
   ],
   "source": [
    "df.apply(lambda row: upsertReviewVector(row), axis=1)"
   ]
  },
  {
   "cell_type": "code",
   "execution_count": null,
   "metadata": {},
   "outputs": [],
   "source": []
  }
 ],
 "metadata": {
  "language_info": {
   "codemirror_mode": {
    "name": "ipython",
    "version": 3
   },
   "file_extension": ".py",
   "mimetype": "text/x-python",
   "name": "python",
   "nbconvert_exporter": "python",
   "pygments_lexer": "ipython3",
   "version": "3.6.9-final"
  },
  "orig_nbformat": 2,
  "kernelspec": {
   "name": "python36964bit737e1f7203fe454596dbc919479bfb9c",
   "display_name": "Python 3.6.9 64-bit"
  }
 },
 "nbformat": 4,
 "nbformat_minor": 2
}