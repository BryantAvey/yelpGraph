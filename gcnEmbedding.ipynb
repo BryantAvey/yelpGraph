{
 "cells": [
  {
   "cell_type": "code",
   "execution_count": 1,
   "metadata": {},
   "outputs": [],
   "source": [
    "import pyTigerGraph as tg \n",
    "from pyTigerGraph import gsql\n",
    "from pyTigerGraph import graphToDataFrame\n",
    "\n",
    "conn = tg.TigerGraphConnection(graphname=\"Yelp\")\n",
    "shell = gsql.Gsql(conn, certNeeded=False)\n",
    "tgDf = graphToDataFrame.graphToDataFrame(conn)"
   ]
  },
  {
   "cell_type": "code",
   "execution_count": null,
   "metadata": {},
   "outputs": [],
   "source": [
    "print(shell.gsql('''CREATE QUERY GetNeighborhood(VERTEX<Business> b) FOR GRAPH Yelp {\n",
    "                        ListAccum<EDGE> @@edges;\n",
    "                        start = {b};\n",
    "                        result = SELECT tgt FROM start:s-(:e1)-:tgt ACCUM @@edges += e1;\n",
    "                        result2 = SELECT tgt2 FROM result:s2-(:e2)-:tgt2 ACCUM @@edges += e2;\n",
    "                        PRINT @@edges;\n",
    "                    }\n",
    "                '''))"
   ]
  }
 ],
 "metadata": {
  "language_info": {
   "codemirror_mode": {
    "name": "ipython",
    "version": 3
   },
   "file_extension": ".py",
   "mimetype": "text/x-python",
   "name": "python",
   "nbconvert_exporter": "python",
   "pygments_lexer": "ipython3",
   "version": "3.6.9-final"
  },
  "orig_nbformat": 2,
  "kernelspec": {
   "name": "python36964bit5e4270a542e54d6788076e0986af2669",
   "display_name": "Python 3.6.9 64-bit"
  }
 },
 "nbformat": 4,
 "nbformat_minor": 2
}