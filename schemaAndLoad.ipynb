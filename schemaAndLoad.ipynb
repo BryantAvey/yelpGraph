{
 "cells": [
  {
   "cell_type": "code",
   "execution_count": 1,
   "metadata": {},
   "outputs": [],
   "source": [
    " import pyTigerGraph as tg\n",
    " from pyTigerGraph import gsql\n",
    " import pandas as pd\n",
    "\n",
    "conn = tg.TigerGraphConnection(host=\"https://localhost\")\n",
    "shell = gsql.Gsql(conn, certNeeded=False)"
   ]
  },
  {
   "cell_type": "code",
   "execution_count": 2,
   "metadata": {
    "tags": []
   },
   "outputs": [
    {
     "output_type": "stream",
     "name": "stdout",
     "text": "========================\nTrying version: v2_6_0\nConnecting to localhost:14240\nIf there is any relative path, it is relative to tigergraph/dev/gdk/gsql\nOther operation is running, try to lock the catalog, timeout in 600 seconds ...\nDropping all, about 1 minute ...\nAbort all active loading jobs\n\nShutdown restpp gse gpe ...\nGraph store /home/tigergraph/tigergraph/gstore/0/ has been cleared!\nEverything is dropped.\n\n"
    }
   ],
   "source": [
    "print(shell.gsql(\"DROP ALL\", options=[]))"
   ]
  },
  {
   "cell_type": "code",
   "execution_count": 3,
   "metadata": {},
   "outputs": [],
   "source": [
    "businesses = pd.read_csv(\"yelp-normalization/out/business_0.01.csv\", nrows=5)\n",
    "categories = pd.read_csv(\"yelp-normalization/out/categories_0.01.csv\", nrows=5)\n",
    "reviews = pd.read_csv(\"yelp-normalization/out/reviews_0.01.csv\", nrows=5)\n",
    "users = pd.read_csv(\"yelp-normalization/out/users_0.01.csv\", nrows=5)\n",
    "friendships = pd.read_csv(\"yelp-normalization/out/friendships_0.01.csv\", nrows=5)"
   ]
  },
  {
   "cell_type": "code",
   "execution_count": 4,
   "metadata": {},
   "outputs": [
    {
     "output_type": "execute_result",
     "data": {
      "text/plain": "              business_id                      name                   address  \\\n0  f9NumwFMBDn751xgFiRbNA  The Range At Lake Norman           10913 Bailey Rd   \n1  Yzvjg0SayhoZgCljUJRF9Q          Carlos Santo NMD  8880 E Via Linda Ste 107   \n2  XNoUzKckATkOD1hP6vghZg                   Felinus     3554 Rue Notre-Dame O   \n3  6OAZjbxqM5ol29BuHsil3w      Nevada House of Hose            1015 Sharp Cir   \n4  51M2Kk903DFYI6gnB5I6SQ   USE MY GUY SERVICES LLC        4827 E Downing Cir   \n\n              city state postal_code   latitude   longitude  stars  is_open  \n0        Cornelius    NC       28031  35.462724  -80.852612    3.5     True  \n1       Scottsdale    AZ       85258  33.569404 -111.890264    5.0     True  \n2         Montreal    QC     H4C 1P4  45.479984  -73.580070    5.0     True  \n3  North Las Vegas    NV       89030  36.219728 -115.127725    2.5    False  \n4             Mesa    AZ       85205  33.428065 -111.726649    4.5     True  ",
      "text/html": "<div>\n<style scoped>\n    .dataframe tbody tr th:only-of-type {\n        vertical-align: middle;\n    }\n\n    .dataframe tbody tr th {\n        vertical-align: top;\n    }\n\n    .dataframe thead th {\n        text-align: right;\n    }\n</style>\n<table border=\"1\" class=\"dataframe\">\n  <thead>\n    <tr style=\"text-align: right;\">\n      <th></th>\n      <th>business_id</th>\n      <th>name</th>\n      <th>address</th>\n      <th>city</th>\n      <th>state</th>\n      <th>postal_code</th>\n      <th>latitude</th>\n      <th>longitude</th>\n      <th>stars</th>\n      <th>is_open</th>\n    </tr>\n  </thead>\n  <tbody>\n    <tr>\n      <th>0</th>\n      <td>f9NumwFMBDn751xgFiRbNA</td>\n      <td>The Range At Lake Norman</td>\n      <td>10913 Bailey Rd</td>\n      <td>Cornelius</td>\n      <td>NC</td>\n      <td>28031</td>\n      <td>35.462724</td>\n      <td>-80.852612</td>\n      <td>3.5</td>\n      <td>True</td>\n    </tr>\n    <tr>\n      <th>1</th>\n      <td>Yzvjg0SayhoZgCljUJRF9Q</td>\n      <td>Carlos Santo NMD</td>\n      <td>8880 E Via Linda Ste 107</td>\n      <td>Scottsdale</td>\n      <td>AZ</td>\n      <td>85258</td>\n      <td>33.569404</td>\n      <td>-111.890264</td>\n      <td>5.0</td>\n      <td>True</td>\n    </tr>\n    <tr>\n      <th>2</th>\n      <td>XNoUzKckATkOD1hP6vghZg</td>\n      <td>Felinus</td>\n      <td>3554 Rue Notre-Dame O</td>\n      <td>Montreal</td>\n      <td>QC</td>\n      <td>H4C 1P4</td>\n      <td>45.479984</td>\n      <td>-73.580070</td>\n      <td>5.0</td>\n      <td>True</td>\n    </tr>\n    <tr>\n      <th>3</th>\n      <td>6OAZjbxqM5ol29BuHsil3w</td>\n      <td>Nevada House of Hose</td>\n      <td>1015 Sharp Cir</td>\n      <td>North Las Vegas</td>\n      <td>NV</td>\n      <td>89030</td>\n      <td>36.219728</td>\n      <td>-115.127725</td>\n      <td>2.5</td>\n      <td>False</td>\n    </tr>\n    <tr>\n      <th>4</th>\n      <td>51M2Kk903DFYI6gnB5I6SQ</td>\n      <td>USE MY GUY SERVICES LLC</td>\n      <td>4827 E Downing Cir</td>\n      <td>Mesa</td>\n      <td>AZ</td>\n      <td>85205</td>\n      <td>33.428065</td>\n      <td>-111.726649</td>\n      <td>4.5</td>\n      <td>True</td>\n    </tr>\n  </tbody>\n</table>\n</div>"
     },
     "metadata": {},
     "execution_count": 4
    }
   ],
   "source": [
    "businesses"
   ]
  },
  {
   "cell_type": "code",
   "execution_count": 5,
   "metadata": {
    "tags": []
   },
   "outputs": [
    {
     "output_type": "stream",
     "name": "stdout",
     "text": "========================\nTrying version: v2_6_0\nConnecting to localhost:14240\nIf there is any relative path, it is relative to tigergraph/dev/gdk/gsql\nThe vertex type Business is created.\n\n"
    }
   ],
   "source": [
    "print(shell.gsql(\"CREATE VERTEX Business (PRIMARY_ID Id STRING, Name STRING, Address STRING, Latitude DOUBLE, Longitude DOUBLE, Stars DOUBLE, Is_Open BOOL, Testing BOOL, Features LIST<DOUBLE>, Embedding LIST<DOUBLE>)\", options=[]))"
   ]
  },
  {
   "cell_type": "code",
   "execution_count": 6,
   "metadata": {
    "tags": []
   },
   "outputs": [
    {
     "output_type": "stream",
     "name": "stdout",
     "text": "========================\nTrying version: v2_6_0\nConnecting to localhost:14240\nIf there is any relative path, it is relative to tigergraph/dev/gdk/gsql\nThe vertex type City is created.\n\n========================\nTrying version: v2_6_0\nConnecting to localhost:14240\nIf there is any relative path, it is relative to tigergraph/dev/gdk/gsql\nThe vertex type State is created.\n\n========================\nTrying version: v2_6_0\nConnecting to localhost:14240\nIf there is any relative path, it is relative to tigergraph/dev/gdk/gsql\nThe vertex type Zip is created.\n\n"
    }
   ],
   "source": [
    "print(shell.gsql(\"CREATE VERTEX City (PRIMARY_ID Name STRING, Name STRING)\", options=[]))\n",
    "print(shell.gsql(\"CREATE VERTEX State (PRIMARY_ID Name STRING, Name STRING)\", options=[]))\n",
    "print(shell.gsql(\"CREATE VERTEX Zip (PRIMARY_ID Code STRING, Code STRING)\", options=[]))"
   ]
  },
  {
   "cell_type": "code",
   "execution_count": 7,
   "metadata": {
    "tags": []
   },
   "outputs": [
    {
     "output_type": "stream",
     "name": "stdout",
     "text": "========================\nTrying version: v2_6_0\nConnecting to localhost:14240\nIf there is any relative path, it is relative to tigergraph/dev/gdk/gsql\nThe edge type zipInCity is created.\nThe reverse edge type cityHasZip is created.\n\n========================\nTrying version: v2_6_0\nConnecting to localhost:14240\nIf there is any relative path, it is relative to tigergraph/dev/gdk/gsql\nThe edge type zipInState is created.\nThe reverse edge type stateHasZip is created.\n\n========================\nTrying version: v2_6_0\nConnecting to localhost:14240\nIf there is any relative path, it is relative to tigergraph/dev/gdk/gsql\nThe edge type cityInState is created.\nThe reverse edge type stateHasCity is created.\n\n========================\nTrying version: v2_6_0\nConnecting to localhost:14240\nIf there is any relative path, it is relative to tigergraph/dev/gdk/gsql\nThe edge type businessInZip is created.\nThe reverse edge type zipHasBusiness is created.\n\n"
    }
   ],
   "source": [
    "print(shell.gsql('CREATE DIRECTED EDGE zipInCity (FROM Zip, TO City) WITH REVERSE_EDGE=\"cityHasZip\"', options=[]))\n",
    "print(shell.gsql('CREATE DIRECTED EDGE zipInState (FROM Zip, TO State) WITH REVERSE_EDGE=\"stateHasZip\"', options=[]))\n",
    "print(shell.gsql('CREATE DIRECTED EDGE cityInState (FROM City, TO State) WITH REVERSE_EDGE=\"stateHasCity\"', options=[]))\n",
    "print(shell.gsql('CREATE DIRECTED EDGE businessInZip (FROM Business, TO Zip) WITH REVERSE_EDGE=\"zipHasBusiness\"', options=[]))"
   ]
  },
  {
   "cell_type": "code",
   "execution_count": 8,
   "metadata": {},
   "outputs": [
    {
     "output_type": "execute_result",
     "data": {
      "text/plain": "              business_id          category\n0  f9NumwFMBDn751xgFiRbNA       Active Life\n1  f9NumwFMBDn751xgFiRbNA  Gun/Rifle Ranges\n2  f9NumwFMBDn751xgFiRbNA       Guns & Ammo\n3  f9NumwFMBDn751xgFiRbNA          Shopping\n4  Yzvjg0SayhoZgCljUJRF9Q  Health & Medical",
      "text/html": "<div>\n<style scoped>\n    .dataframe tbody tr th:only-of-type {\n        vertical-align: middle;\n    }\n\n    .dataframe tbody tr th {\n        vertical-align: top;\n    }\n\n    .dataframe thead th {\n        text-align: right;\n    }\n</style>\n<table border=\"1\" class=\"dataframe\">\n  <thead>\n    <tr style=\"text-align: right;\">\n      <th></th>\n      <th>business_id</th>\n      <th>category</th>\n    </tr>\n  </thead>\n  <tbody>\n    <tr>\n      <th>0</th>\n      <td>f9NumwFMBDn751xgFiRbNA</td>\n      <td>Active Life</td>\n    </tr>\n    <tr>\n      <th>1</th>\n      <td>f9NumwFMBDn751xgFiRbNA</td>\n      <td>Gun/Rifle Ranges</td>\n    </tr>\n    <tr>\n      <th>2</th>\n      <td>f9NumwFMBDn751xgFiRbNA</td>\n      <td>Guns &amp; Ammo</td>\n    </tr>\n    <tr>\n      <th>3</th>\n      <td>f9NumwFMBDn751xgFiRbNA</td>\n      <td>Shopping</td>\n    </tr>\n    <tr>\n      <th>4</th>\n      <td>Yzvjg0SayhoZgCljUJRF9Q</td>\n      <td>Health &amp; Medical</td>\n    </tr>\n  </tbody>\n</table>\n</div>"
     },
     "metadata": {},
     "execution_count": 8
    }
   ],
   "source": [
    "categories"
   ]
  },
  {
   "cell_type": "code",
   "execution_count": 9,
   "metadata": {
    "tags": []
   },
   "outputs": [
    {
     "output_type": "stream",
     "name": "stdout",
     "text": "========================\nTrying version: v2_6_0\nConnecting to localhost:14240\nIf there is any relative path, it is relative to tigergraph/dev/gdk/gsql\nThe vertex type Category is created.\n\n========================\nTrying version: v2_6_0\nConnecting to localhost:14240\nIf there is any relative path, it is relative to tigergraph/dev/gdk/gsql\nThe edge type businessInCategory is created.\nThe reverse edge type categoryHasCompany is created.\n\n"
    }
   ],
   "source": [
    "print(shell.gsql(\"CREATE VERTEX Category (PRIMARY_ID Name STRING, Name STRING)\", options=[]))\n",
    "print(shell.gsql('CREATE DIRECTED EDGE businessInCategory (FROM Business, TO Category) WITH REVERSE_EDGE=\"categoryHasCompany\"', options=[]))"
   ]
  },
  {
   "cell_type": "code",
   "execution_count": 10,
   "metadata": {},
   "outputs": [
    {
     "output_type": "execute_result",
     "data": {
      "text/plain": "                review_id                 user_id             business_id  \\\n0  09qxjFi4abaW66JeSLazuQ  mbdtyUUzZZx5ld1Qc4iGtQ  wkzWdo1mBqbzR2KPoXtWZw   \n1  -cRD6URpwks2GvP6qy8x4Q  6UR0kNe3C-ivlF2x1fPHNQ  WUmosjOxt_8nWByHgm8Kkg   \n2  xFjo0v7PmYWZRI3tK2WPuA  jqEbD-d5iI5nrwhfMmX_5w  8OeHn9KCbICuRBs_XiDDUA   \n3  641ca8i5v5RZK9IngojV2Q  xFSLb_pxXta5G4oaRB1ylQ  TspQ9jCczz436RiJHJQYZw   \n4  Wj2scpb-B5i58fZbyzpE5A  UER4m0CBVgcFlVbMqhCvCg  upSPwM6Fr6RHAhwagnleow   \n\n   stars  useful  funny  cool  \\\n0    4.0       1      0     0   \n1    5.0       0      0     0   \n2    4.0       1      0     0   \n3    5.0       4      3     3   \n4    5.0      18      8    12   \n\n                                                text                 date  \n0  Was a Chicago style deep dish.  Homemade type ...  2010-08-21 01:19:17  \n1  Who knew?\\n \\nI did! \\n\\nI remember eating man...  2011-01-08 23:13:25  \n2  Happy to give a strong recommendation to this ...  2013-06-24 04:49:52  \n3  Hands down the BEST kabobs in Vegas. \\n\\nI sto...  2016-03-06 23:58:31  \n4  I normally don't bother with dealing health st...  2012-03-30 00:46:54  ",
      "text/html": "<div>\n<style scoped>\n    .dataframe tbody tr th:only-of-type {\n        vertical-align: middle;\n    }\n\n    .dataframe tbody tr th {\n        vertical-align: top;\n    }\n\n    .dataframe thead th {\n        text-align: right;\n    }\n</style>\n<table border=\"1\" class=\"dataframe\">\n  <thead>\n    <tr style=\"text-align: right;\">\n      <th></th>\n      <th>review_id</th>\n      <th>user_id</th>\n      <th>business_id</th>\n      <th>stars</th>\n      <th>useful</th>\n      <th>funny</th>\n      <th>cool</th>\n      <th>text</th>\n      <th>date</th>\n    </tr>\n  </thead>\n  <tbody>\n    <tr>\n      <th>0</th>\n      <td>09qxjFi4abaW66JeSLazuQ</td>\n      <td>mbdtyUUzZZx5ld1Qc4iGtQ</td>\n      <td>wkzWdo1mBqbzR2KPoXtWZw</td>\n      <td>4.0</td>\n      <td>1</td>\n      <td>0</td>\n      <td>0</td>\n      <td>Was a Chicago style deep dish.  Homemade type ...</td>\n      <td>2010-08-21 01:19:17</td>\n    </tr>\n    <tr>\n      <th>1</th>\n      <td>-cRD6URpwks2GvP6qy8x4Q</td>\n      <td>6UR0kNe3C-ivlF2x1fPHNQ</td>\n      <td>WUmosjOxt_8nWByHgm8Kkg</td>\n      <td>5.0</td>\n      <td>0</td>\n      <td>0</td>\n      <td>0</td>\n      <td>Who knew?\\n \\nI did! \\n\\nI remember eating man...</td>\n      <td>2011-01-08 23:13:25</td>\n    </tr>\n    <tr>\n      <th>2</th>\n      <td>xFjo0v7PmYWZRI3tK2WPuA</td>\n      <td>jqEbD-d5iI5nrwhfMmX_5w</td>\n      <td>8OeHn9KCbICuRBs_XiDDUA</td>\n      <td>4.0</td>\n      <td>1</td>\n      <td>0</td>\n      <td>0</td>\n      <td>Happy to give a strong recommendation to this ...</td>\n      <td>2013-06-24 04:49:52</td>\n    </tr>\n    <tr>\n      <th>3</th>\n      <td>641ca8i5v5RZK9IngojV2Q</td>\n      <td>xFSLb_pxXta5G4oaRB1ylQ</td>\n      <td>TspQ9jCczz436RiJHJQYZw</td>\n      <td>5.0</td>\n      <td>4</td>\n      <td>3</td>\n      <td>3</td>\n      <td>Hands down the BEST kabobs in Vegas. \\n\\nI sto...</td>\n      <td>2016-03-06 23:58:31</td>\n    </tr>\n    <tr>\n      <th>4</th>\n      <td>Wj2scpb-B5i58fZbyzpE5A</td>\n      <td>UER4m0CBVgcFlVbMqhCvCg</td>\n      <td>upSPwM6Fr6RHAhwagnleow</td>\n      <td>5.0</td>\n      <td>18</td>\n      <td>8</td>\n      <td>12</td>\n      <td>I normally don't bother with dealing health st...</td>\n      <td>2012-03-30 00:46:54</td>\n    </tr>\n  </tbody>\n</table>\n</div>"
     },
     "metadata": {},
     "execution_count": 10
    }
   ],
   "source": [
    "reviews"
   ]
  },
  {
   "cell_type": "code",
   "execution_count": 11,
   "metadata": {
    "tags": []
   },
   "outputs": [
    {
     "output_type": "stream",
     "name": "stdout",
     "text": "========================\nTrying version: v2_6_0\nConnecting to localhost:14240\nIf there is any relative path, it is relative to tigergraph/dev/gdk/gsql\nThe vertex type Review is created.\n\n========================\nTrying version: v2_6_0\nConnecting to localhost:14240\nIf there is any relative path, it is relative to tigergraph/dev/gdk/gsql\nThe edge type reviewOfBusiness is created.\nThe reverse edge type businessHasReview is created.\n\n"
    }
   ],
   "source": [
    "print(shell.gsql(\"CREATE VERTEX Review (PRIMARY_ID ReviewID STRING, Stars DOUBLE, Useful INT, Funny INT, Cool INT, Text STRING, DateOfReview DATETIME, Testing BOOL, Features LIST<DOUBLE>)\", options=[]))\n",
    "\n",
    "print(shell.gsql('CREATE DIRECTED EDGE reviewOfBusiness (FROM Review, TO Business) WITH REVERSE_EDGE=\"businessHasReview\"', options=[]))"
   ]
  },
  {
   "cell_type": "code",
   "execution_count": 12,
   "metadata": {},
   "outputs": [
    {
     "output_type": "execute_result",
     "data": {
      "text/plain": "                  user_id      name        yelping_since  useful  funny  cool  \\\n0  ntlvfPzc8eglqvk92iDIAw    Rafael  2007-07-06 03:27:11     628    225   227   \n1  FOBRPlBHa3WPHFB5qYDlVg  Michelle  2008-04-28 01:29:25     790    316   400   \n2  zZUnPeh2hEp0WydbAZEOOg    Martin  2008-08-28 23:40:05     151    125   103   \n3  QaELAmRcDc5TfJEylaaP8g      John  2008-09-20 00:08:14     233    160    84   \n4  xvu8G900tezTzbbfqmTKvA      Anne  2008-08-09 00:30:27    1265    400   512   \n\n   fans  \n0    14  \n1    27  \n2     5  \n3     6  \n4    78  ",
      "text/html": "<div>\n<style scoped>\n    .dataframe tbody tr th:only-of-type {\n        vertical-align: middle;\n    }\n\n    .dataframe tbody tr th {\n        vertical-align: top;\n    }\n\n    .dataframe thead th {\n        text-align: right;\n    }\n</style>\n<table border=\"1\" class=\"dataframe\">\n  <thead>\n    <tr style=\"text-align: right;\">\n      <th></th>\n      <th>user_id</th>\n      <th>name</th>\n      <th>yelping_since</th>\n      <th>useful</th>\n      <th>funny</th>\n      <th>cool</th>\n      <th>fans</th>\n    </tr>\n  </thead>\n  <tbody>\n    <tr>\n      <th>0</th>\n      <td>ntlvfPzc8eglqvk92iDIAw</td>\n      <td>Rafael</td>\n      <td>2007-07-06 03:27:11</td>\n      <td>628</td>\n      <td>225</td>\n      <td>227</td>\n      <td>14</td>\n    </tr>\n    <tr>\n      <th>1</th>\n      <td>FOBRPlBHa3WPHFB5qYDlVg</td>\n      <td>Michelle</td>\n      <td>2008-04-28 01:29:25</td>\n      <td>790</td>\n      <td>316</td>\n      <td>400</td>\n      <td>27</td>\n    </tr>\n    <tr>\n      <th>2</th>\n      <td>zZUnPeh2hEp0WydbAZEOOg</td>\n      <td>Martin</td>\n      <td>2008-08-28 23:40:05</td>\n      <td>151</td>\n      <td>125</td>\n      <td>103</td>\n      <td>5</td>\n    </tr>\n    <tr>\n      <th>3</th>\n      <td>QaELAmRcDc5TfJEylaaP8g</td>\n      <td>John</td>\n      <td>2008-09-20 00:08:14</td>\n      <td>233</td>\n      <td>160</td>\n      <td>84</td>\n      <td>6</td>\n    </tr>\n    <tr>\n      <th>4</th>\n      <td>xvu8G900tezTzbbfqmTKvA</td>\n      <td>Anne</td>\n      <td>2008-08-09 00:30:27</td>\n      <td>1265</td>\n      <td>400</td>\n      <td>512</td>\n      <td>78</td>\n    </tr>\n  </tbody>\n</table>\n</div>"
     },
     "metadata": {},
     "execution_count": 12
    }
   ],
   "source": [
    "users"
   ]
  },
  {
   "cell_type": "code",
   "execution_count": 13,
   "metadata": {
    "tags": []
   },
   "outputs": [
    {
     "output_type": "stream",
     "name": "stdout",
     "text": "========================\nTrying version: v2_6_0\nConnecting to localhost:14240\nIf there is any relative path, it is relative to tigergraph/dev/gdk/gsql\nThe vertex type User is created.\n\n========================\nTrying version: v2_6_0\nConnecting to localhost:14240\nIf there is any relative path, it is relative to tigergraph/dev/gdk/gsql\nThe edge type userReview is created.\nThe reverse edge type wroteReview is created.\n\n========================\nTrying version: v2_6_0\nConnecting to localhost:14240\nIf there is any relative path, it is relative to tigergraph/dev/gdk/gsql\nThe edge type userVisited is created.\nThe reverse edge type businessHadUser is created.\n\n"
    }
   ],
   "source": [
    "print(shell.gsql(\"CREATE VERTEX User (PRIMARY_ID UserID STRING, Name STRING, OnYelpSince DATETIME, Useful INT, Funny INT, Cool INT, Fans INT, Testing BOOL, Features LIST<DOUBLE>, Embedding LIST<DOUBLE>)\", options=[]))\n",
    "print(shell.gsql('CREATE DIRECTED EDGE userReview (FROM User, TO Review) WITH REVERSE_EDGE=\"wroteReview\"', options=[]))\n",
    "print(shell.gsql('CREATE DIRECTED EDGE userVisited (FROM User, TO Business) WITH REVERSE_EDGE=\"businessHadUser\"', options=[]))"
   ]
  },
  {
   "cell_type": "code",
   "execution_count": 14,
   "metadata": {},
   "outputs": [
    {
     "output_type": "execute_result",
     "data": {
      "text/plain": "                  user_id               friend_id\n0  ntlvfPzc8eglqvk92iDIAw  CIZGlEw-Bp0rmkP8M6yQ9Q\n1  ntlvfPzc8eglqvk92iDIAw  mJLRvqLOKhqEdkgt9iEaCQ\n2  ntlvfPzc8eglqvk92iDIAw  IkRib6Xs91PPW7pon7VVig\n3  ntlvfPzc8eglqvk92iDIAw  deL6e_z9xqZTIODKqnvRXQ\n4  FOBRPlBHa3WPHFB5qYDlVg  PeLGa5vUR8_mcsn-fn42Jg",
      "text/html": "<div>\n<style scoped>\n    .dataframe tbody tr th:only-of-type {\n        vertical-align: middle;\n    }\n\n    .dataframe tbody tr th {\n        vertical-align: top;\n    }\n\n    .dataframe thead th {\n        text-align: right;\n    }\n</style>\n<table border=\"1\" class=\"dataframe\">\n  <thead>\n    <tr style=\"text-align: right;\">\n      <th></th>\n      <th>user_id</th>\n      <th>friend_id</th>\n    </tr>\n  </thead>\n  <tbody>\n    <tr>\n      <th>0</th>\n      <td>ntlvfPzc8eglqvk92iDIAw</td>\n      <td>CIZGlEw-Bp0rmkP8M6yQ9Q</td>\n    </tr>\n    <tr>\n      <th>1</th>\n      <td>ntlvfPzc8eglqvk92iDIAw</td>\n      <td>mJLRvqLOKhqEdkgt9iEaCQ</td>\n    </tr>\n    <tr>\n      <th>2</th>\n      <td>ntlvfPzc8eglqvk92iDIAw</td>\n      <td>IkRib6Xs91PPW7pon7VVig</td>\n    </tr>\n    <tr>\n      <th>3</th>\n      <td>ntlvfPzc8eglqvk92iDIAw</td>\n      <td>deL6e_z9xqZTIODKqnvRXQ</td>\n    </tr>\n    <tr>\n      <th>4</th>\n      <td>FOBRPlBHa3WPHFB5qYDlVg</td>\n      <td>PeLGa5vUR8_mcsn-fn42Jg</td>\n    </tr>\n  </tbody>\n</table>\n</div>"
     },
     "metadata": {},
     "execution_count": 14
    }
   ],
   "source": [
    "friendships"
   ]
  },
  {
   "cell_type": "code",
   "execution_count": 15,
   "metadata": {
    "tags": []
   },
   "outputs": [
    {
     "output_type": "stream",
     "name": "stdout",
     "text": "========================\nTrying version: v2_6_0\nConnecting to localhost:14240\nIf there is any relative path, it is relative to tigergraph/dev/gdk/gsql\nThe edge type friendsWith is created.\n\n"
    }
   ],
   "source": [
    "print(shell.gsql('CREATE UNDIRECTED EDGE friendsWith (FROM User, TO User)', options=[]))"
   ]
  },
  {
   "cell_type": "code",
   "execution_count": 16,
   "metadata": {
    "tags": []
   },
   "outputs": [
    {
     "output_type": "stream",
     "name": "stdout",
     "text": "========================\nTrying version: v2_6_0\nConnecting to localhost:14240\nIf there is any relative path, it is relative to tigergraph/dev/gdk/gsql\n---- Global vertices, edges, and all graphs\nVertex Types: \n  - VERTEX Business(PRIMARY_ID Id STRING, Name STRING, Address STRING, Latitude DOUBLE, Longitude DOUBLE, Stars DOUBLE, Is_Open BOOL, Testing BOOL, Features LIST<DOUBLE>, Embedding LIST<DOUBLE>) WITH STATS=\"OUTDEGREE_BY_EDGETYPE\"\n  - VERTEX City(PRIMARY_ID Name STRING, Name STRING) WITH STATS=\"OUTDEGREE_BY_EDGETYPE\"\n  - VERTEX State(PRIMARY_ID Name STRING, Name STRING) WITH STATS=\"OUTDEGREE_BY_EDGETYPE\"\n  - VERTEX Zip(PRIMARY_ID Code STRING, Code STRING) WITH STATS=\"OUTDEGREE_BY_EDGETYPE\"\n  - VERTEX Category(PRIMARY_ID Name STRING, Name STRING) WITH STATS=\"OUTDEGREE_BY_EDGETYPE\"\n  - VERTEX Review(PRIMARY_ID ReviewID STRING, Stars DOUBLE, Useful INT, Funny INT, Cool INT, Text STRING, DateOfReview DATETIME, Testing BOOL, Features LIST<DOUBLE>) WITH STATS=\"OUTDEGREE_BY_EDGETYPE\"\n  - VERTEX User(PRIMARY_ID UserID STRING, Name STRING, OnYelpSince DATETIME, Useful INT, Funny INT, Cool INT, Fans INT, Testing BOOL, Features LIST<DOUBLE>, Embedding LIST<DOUBLE>) WITH STATS=\"OUTDEGREE_BY_EDGETYPE\"\nEdge Types: \n  - DIRECTED EDGE zipInCity(FROM Zip, TO City) WITH REVERSE_EDGE=\"cityHasZip\"\n  - DIRECTED EDGE cityHasZip(FROM City, TO Zip) WITH REVERSE_EDGE=\"zipInCity\"\n  - DIRECTED EDGE zipInState(FROM Zip, TO State) WITH REVERSE_EDGE=\"stateHasZip\"\n  - DIRECTED EDGE stateHasZip(FROM State, TO Zip) WITH REVERSE_EDGE=\"zipInState\"\n  - DIRECTED EDGE cityInState(FROM City, TO State) WITH REVERSE_EDGE=\"stateHasCity\"\n  - DIRECTED EDGE stateHasCity(FROM State, TO City) WITH REVERSE_EDGE=\"cityInState\"\n  - DIRECTED EDGE businessInZip(FROM Business, TO Zip) WITH REVERSE_EDGE=\"zipHasBusiness\"\n  - DIRECTED EDGE zipHasBusiness(FROM Zip, TO Business) WITH REVERSE_EDGE=\"businessInZip\"\n  - DIRECTED EDGE businessInCategory(FROM Business, TO Category) WITH REVERSE_EDGE=\"categoryHasCompany\"\n  - DIRECTED EDGE categoryHasCompany(FROM Category, TO Business) WITH REVERSE_EDGE=\"businessInCategory\"\n  - DIRECTED EDGE reviewOfBusiness(FROM Review, TO Business) WITH REVERSE_EDGE=\"businessHasReview\"\n  - DIRECTED EDGE businessHasReview(FROM Business, TO Review) WITH REVERSE_EDGE=\"reviewOfBusiness\"\n  - DIRECTED EDGE userReview(FROM User, TO Review) WITH REVERSE_EDGE=\"wroteReview\"\n  - DIRECTED EDGE wroteReview(FROM Review, TO User) WITH REVERSE_EDGE=\"userReview\"\n  - DIRECTED EDGE userVisited(FROM User, TO Business) WITH REVERSE_EDGE=\"businessHadUser\"\n  - DIRECTED EDGE businessHadUser(FROM Business, TO User) WITH REVERSE_EDGE=\"userVisited\"\n  - UNDIRECTED EDGE friendsWith(FROM User, TO User)\n\nGraphs: \nJobs: \n\n\nJSON API version: v2\nSyntax version: v1\n\n\n"
    }
   ],
   "source": [
    "print(shell.gsql('ls', options=[]))"
   ]
  },
  {
   "cell_type": "code",
   "execution_count": 17,
   "metadata": {
    "tags": []
   },
   "outputs": [
    {
     "output_type": "stream",
     "name": "stdout",
     "text": "========================\nTrying version: v2_6_0\nConnecting to localhost:14240\nIf there is any relative path, it is relative to tigergraph/dev/gdk/gsql\n\nRestarting gse gpe restpp ...\n\nFinish restarting services in 27.572 seconds!\nThe graph Yelp is created.\n\n"
    }
   ],
   "source": [
    "print(shell.gsql(\"CREATE GRAPH Yelp(Business, City, Zip, State, Category, Review, User, zipInCity, cityHasZip, zipInState, stateHasZip, cityInState, stateHasCity, businessInZip, zipHasBusiness, businessInCategory, categoryHasCompany, reviewOfBusiness, businessHasReview, userReview, wroteReview, userVisited, businessHadUser, friendsWith)\", options=[]))"
   ]
  },
  {
   "cell_type": "code",
   "execution_count": 18,
   "metadata": {},
   "outputs": [],
   "source": [
    "conn = tg.TigerGraphConnection(host=\"http://localhost\", graphname=\"Yelp\")"
   ]
  },
  {
   "cell_type": "code",
   "execution_count": 19,
   "metadata": {},
   "outputs": [
    {
     "output_type": "execute_result",
     "data": {
      "text/plain": "              business_id                      name                   address  \\\n0  f9NumwFMBDn751xgFiRbNA  The Range At Lake Norman           10913 Bailey Rd   \n1  Yzvjg0SayhoZgCljUJRF9Q          Carlos Santo NMD  8880 E Via Linda Ste 107   \n2  XNoUzKckATkOD1hP6vghZg                   Felinus     3554 Rue Notre-Dame O   \n3  6OAZjbxqM5ol29BuHsil3w      Nevada House of Hose            1015 Sharp Cir   \n4  51M2Kk903DFYI6gnB5I6SQ   USE MY GUY SERVICES LLC        4827 E Downing Cir   \n\n              city state postal_code   latitude   longitude  stars  is_open  \n0        Cornelius    NC       28031  35.462724  -80.852612    3.5     True  \n1       Scottsdale    AZ       85258  33.569404 -111.890264    5.0     True  \n2         Montreal    QC     H4C 1P4  45.479984  -73.580070    5.0     True  \n3  North Las Vegas    NV       89030  36.219728 -115.127725    2.5    False  \n4             Mesa    AZ       85205  33.428065 -111.726649    4.5     True  ",
      "text/html": "<div>\n<style scoped>\n    .dataframe tbody tr th:only-of-type {\n        vertical-align: middle;\n    }\n\n    .dataframe tbody tr th {\n        vertical-align: top;\n    }\n\n    .dataframe thead th {\n        text-align: right;\n    }\n</style>\n<table border=\"1\" class=\"dataframe\">\n  <thead>\n    <tr style=\"text-align: right;\">\n      <th></th>\n      <th>business_id</th>\n      <th>name</th>\n      <th>address</th>\n      <th>city</th>\n      <th>state</th>\n      <th>postal_code</th>\n      <th>latitude</th>\n      <th>longitude</th>\n      <th>stars</th>\n      <th>is_open</th>\n    </tr>\n  </thead>\n  <tbody>\n    <tr>\n      <th>0</th>\n      <td>f9NumwFMBDn751xgFiRbNA</td>\n      <td>The Range At Lake Norman</td>\n      <td>10913 Bailey Rd</td>\n      <td>Cornelius</td>\n      <td>NC</td>\n      <td>28031</td>\n      <td>35.462724</td>\n      <td>-80.852612</td>\n      <td>3.5</td>\n      <td>True</td>\n    </tr>\n    <tr>\n      <th>1</th>\n      <td>Yzvjg0SayhoZgCljUJRF9Q</td>\n      <td>Carlos Santo NMD</td>\n      <td>8880 E Via Linda Ste 107</td>\n      <td>Scottsdale</td>\n      <td>AZ</td>\n      <td>85258</td>\n      <td>33.569404</td>\n      <td>-111.890264</td>\n      <td>5.0</td>\n      <td>True</td>\n    </tr>\n    <tr>\n      <th>2</th>\n      <td>XNoUzKckATkOD1hP6vghZg</td>\n      <td>Felinus</td>\n      <td>3554 Rue Notre-Dame O</td>\n      <td>Montreal</td>\n      <td>QC</td>\n      <td>H4C 1P4</td>\n      <td>45.479984</td>\n      <td>-73.580070</td>\n      <td>5.0</td>\n      <td>True</td>\n    </tr>\n    <tr>\n      <th>3</th>\n      <td>6OAZjbxqM5ol29BuHsil3w</td>\n      <td>Nevada House of Hose</td>\n      <td>1015 Sharp Cir</td>\n      <td>North Las Vegas</td>\n      <td>NV</td>\n      <td>89030</td>\n      <td>36.219728</td>\n      <td>-115.127725</td>\n      <td>2.5</td>\n      <td>False</td>\n    </tr>\n    <tr>\n      <th>4</th>\n      <td>51M2Kk903DFYI6gnB5I6SQ</td>\n      <td>USE MY GUY SERVICES LLC</td>\n      <td>4827 E Downing Cir</td>\n      <td>Mesa</td>\n      <td>AZ</td>\n      <td>85205</td>\n      <td>33.428065</td>\n      <td>-111.726649</td>\n      <td>4.5</td>\n      <td>True</td>\n    </tr>\n  </tbody>\n</table>\n</div>"
     },
     "metadata": {},
     "execution_count": 19
    }
   ],
   "source": [
    "businesses = pd.read_csv(\"yelp-normalization/out/business_0.01.csv\")\n",
    "businesses.head()"
   ]
  },
  {
   "cell_type": "code",
   "execution_count": 20,
   "metadata": {},
   "outputs": [],
   "source": [
    "import random\n",
    "testingPercent = .2\n",
    "\n",
    "def trainOrTest():\n",
    "    return random.uniform(0, 1) < testingPercent"
   ]
  },
  {
   "cell_type": "code",
   "execution_count": 21,
   "metadata": {},
   "outputs": [],
   "source": [
    "def upsertBusinesses(row):\n",
    "    attributes = {\n",
    "            \"Name\": row[\"name\"],\n",
    "            \"Address\": row[\"address\"],\n",
    "            \"Latitude\": row[\"latitude\"],\n",
    "            \"Longitude\": row[\"longitude\"],\n",
    "            \"Stars\": row[\"stars\"],\n",
    "            \"Is_Open\": row[\"is_open\"],\n",
    "            \"Testing\": trainOrTest()\n",
    "        }\n",
    "    try:       \n",
    "        conn.upsertVertex(\"Business\", row[\"business_id\"], attributes)\n",
    "    except:\n",
    "        pass\n",
    "    conn.upsertEdge(\"Business\", row[\"business_id\"], \"businessInZip\", \"Zip\", row[\"postal_code\"])"
   ]
  },
  {
   "cell_type": "code",
   "execution_count": 22,
   "metadata": {},
   "outputs": [],
   "source": [
    "def upsertZips(row):\n",
    "    attributes = {\"Code\", row[\"postal_code\"]}\n",
    "    conn.upsertVertex(\"Zip\", row[\"postal_code\"], attributes)\n",
    "\n",
    "    conn.upsertEdge(\"Zip\", row[\"postal_code\"], \"zipInCity\", \"City\", row[\"city\"])\n",
    "    conn.upsertEdge(\"Zip\", row[\"postal_code\"], \"zipInState\", \"State\", row[\"state\"])"
   ]
  },
  {
   "cell_type": "code",
   "execution_count": 23,
   "metadata": {},
   "outputs": [],
   "source": [
    "def upsertStates(row):\n",
    "    attributes = {\"Name\": row[\"name\"]}\n",
    "    conn.upsertVertex(\"State\", row[\"state\"], attributes)\n",
    "    conn.upsertEdge(\"City\", row[\"city\"], \"cityInState\", \"State\", row[\"state\"])"
   ]
  },
  {
   "cell_type": "code",
   "execution_count": 24,
   "metadata": {},
   "outputs": [],
   "source": [
    "def upsertCities(row):\n",
    "    attributes = {\"Name\": row[\"city\"]}\n",
    "    conn.upsertVertex(\"City\", row[\"city\"], attributes)"
   ]
  },
  {
   "cell_type": "code",
   "execution_count": 25,
   "metadata": {},
   "outputs": [
    {
     "output_type": "execute_result",
     "data": {
      "text/plain": "0       None\n1       None\n2       None\n3       None\n4       None\n        ... \n2087    None\n2088    None\n2089    None\n2090    None\n2091    None\nLength: 2092, dtype: object"
     },
     "metadata": {},
     "execution_count": 25
    }
   ],
   "source": [
    "businesses.apply(lambda row : upsertCities(row), axis=1)\n",
    "businesses.apply(lambda row : upsertStates(row), axis=1)\n",
    "businesses.apply(lambda row : upsertZips(row), axis=1)\n",
    "businesses.apply(lambda row: upsertBusinesses(row), axis=1)"
   ]
  },
  {
   "cell_type": "code",
   "execution_count": 26,
   "metadata": {},
   "outputs": [
    {
     "output_type": "execute_result",
     "data": {
      "text/plain": "              business_id          category\n0  f9NumwFMBDn751xgFiRbNA       Active Life\n1  f9NumwFMBDn751xgFiRbNA  Gun/Rifle Ranges\n2  f9NumwFMBDn751xgFiRbNA       Guns & Ammo\n3  f9NumwFMBDn751xgFiRbNA          Shopping\n4  Yzvjg0SayhoZgCljUJRF9Q  Health & Medical",
      "text/html": "<div>\n<style scoped>\n    .dataframe tbody tr th:only-of-type {\n        vertical-align: middle;\n    }\n\n    .dataframe tbody tr th {\n        vertical-align: top;\n    }\n\n    .dataframe thead th {\n        text-align: right;\n    }\n</style>\n<table border=\"1\" class=\"dataframe\">\n  <thead>\n    <tr style=\"text-align: right;\">\n      <th></th>\n      <th>business_id</th>\n      <th>category</th>\n    </tr>\n  </thead>\n  <tbody>\n    <tr>\n      <th>0</th>\n      <td>f9NumwFMBDn751xgFiRbNA</td>\n      <td>Active Life</td>\n    </tr>\n    <tr>\n      <th>1</th>\n      <td>f9NumwFMBDn751xgFiRbNA</td>\n      <td>Gun/Rifle Ranges</td>\n    </tr>\n    <tr>\n      <th>2</th>\n      <td>f9NumwFMBDn751xgFiRbNA</td>\n      <td>Guns &amp; Ammo</td>\n    </tr>\n    <tr>\n      <th>3</th>\n      <td>f9NumwFMBDn751xgFiRbNA</td>\n      <td>Shopping</td>\n    </tr>\n    <tr>\n      <th>4</th>\n      <td>Yzvjg0SayhoZgCljUJRF9Q</td>\n      <td>Health &amp; Medical</td>\n    </tr>\n  </tbody>\n</table>\n</div>"
     },
     "metadata": {},
     "execution_count": 26
    }
   ],
   "source": [
    "categories = pd.read_csv(\"yelp-normalization/out/categories_0.01.csv\")\n",
    "categories.head()"
   ]
  },
  {
   "cell_type": "code",
   "execution_count": 27,
   "metadata": {},
   "outputs": [],
   "source": [
    "def upsertCategories(row):\n",
    "    attributes = {\"Name\": row[\"category\"]}\n",
    "    conn.upsertVertex(\"Category\", row[\"category\"], attributes)\n",
    "    conn.upsertEdge(\"Business\", row[\"business_id\"], \"businessInCategory\", \"Category\", row[\"category\"])"
   ]
  },
  {
   "cell_type": "code",
   "execution_count": 28,
   "metadata": {},
   "outputs": [
    {
     "output_type": "execute_result",
     "data": {
      "text/plain": "0       None\n1       None\n2       None\n3       None\n4       None\n        ... \n8691    None\n8692    None\n8693    None\n8694    None\n8695    None\nLength: 8696, dtype: object"
     },
     "metadata": {},
     "execution_count": 28
    }
   ],
   "source": [
    "categories.apply(lambda row: upsertCategories(row), axis=1)"
   ]
  },
  {
   "cell_type": "code",
   "execution_count": 29,
   "metadata": {},
   "outputs": [
    {
     "output_type": "execute_result",
     "data": {
      "text/plain": "                  user_id      name        yelping_since  useful  funny  cool  \\\n0  ntlvfPzc8eglqvk92iDIAw    Rafael  2007-07-06 03:27:11     628    225   227   \n1  FOBRPlBHa3WPHFB5qYDlVg  Michelle  2008-04-28 01:29:25     790    316   400   \n2  zZUnPeh2hEp0WydbAZEOOg    Martin  2008-08-28 23:40:05     151    125   103   \n3  QaELAmRcDc5TfJEylaaP8g      John  2008-09-20 00:08:14     233    160    84   \n4  xvu8G900tezTzbbfqmTKvA      Anne  2008-08-09 00:30:27    1265    400   512   \n\n   fans  \n0    14  \n1    27  \n2     5  \n3     6  \n4    78  ",
      "text/html": "<div>\n<style scoped>\n    .dataframe tbody tr th:only-of-type {\n        vertical-align: middle;\n    }\n\n    .dataframe tbody tr th {\n        vertical-align: top;\n    }\n\n    .dataframe thead th {\n        text-align: right;\n    }\n</style>\n<table border=\"1\" class=\"dataframe\">\n  <thead>\n    <tr style=\"text-align: right;\">\n      <th></th>\n      <th>user_id</th>\n      <th>name</th>\n      <th>yelping_since</th>\n      <th>useful</th>\n      <th>funny</th>\n      <th>cool</th>\n      <th>fans</th>\n    </tr>\n  </thead>\n  <tbody>\n    <tr>\n      <th>0</th>\n      <td>ntlvfPzc8eglqvk92iDIAw</td>\n      <td>Rafael</td>\n      <td>2007-07-06 03:27:11</td>\n      <td>628</td>\n      <td>225</td>\n      <td>227</td>\n      <td>14</td>\n    </tr>\n    <tr>\n      <th>1</th>\n      <td>FOBRPlBHa3WPHFB5qYDlVg</td>\n      <td>Michelle</td>\n      <td>2008-04-28 01:29:25</td>\n      <td>790</td>\n      <td>316</td>\n      <td>400</td>\n      <td>27</td>\n    </tr>\n    <tr>\n      <th>2</th>\n      <td>zZUnPeh2hEp0WydbAZEOOg</td>\n      <td>Martin</td>\n      <td>2008-08-28 23:40:05</td>\n      <td>151</td>\n      <td>125</td>\n      <td>103</td>\n      <td>5</td>\n    </tr>\n    <tr>\n      <th>3</th>\n      <td>QaELAmRcDc5TfJEylaaP8g</td>\n      <td>John</td>\n      <td>2008-09-20 00:08:14</td>\n      <td>233</td>\n      <td>160</td>\n      <td>84</td>\n      <td>6</td>\n    </tr>\n    <tr>\n      <th>4</th>\n      <td>xvu8G900tezTzbbfqmTKvA</td>\n      <td>Anne</td>\n      <td>2008-08-09 00:30:27</td>\n      <td>1265</td>\n      <td>400</td>\n      <td>512</td>\n      <td>78</td>\n    </tr>\n  </tbody>\n</table>\n</div>"
     },
     "metadata": {},
     "execution_count": 29
    }
   ],
   "source": [
    "users = pd.read_csv(\"yelp-normalization/out/users_0.01.csv\")\n",
    "users.head()"
   ]
  },
  {
   "cell_type": "code",
   "execution_count": 30,
   "metadata": {},
   "outputs": [],
   "source": [
    "def upsertUsers(row):\n",
    "    attributes = {\n",
    "        \"Name\": row[\"name\"],\n",
    "        \"OnYelpSince\": row[\"yelping_since\"],\n",
    "        \"Useful\": row[\"useful\"],\n",
    "        \"Funny\": row[\"funny\"],\n",
    "        \"Cool\": row[\"cool\"],\n",
    "        \"Fans\": row[\"fans\"],\n",
    "        \"Testing\": trainOrTest()\n",
    "    }\n",
    "    conn.upsertVertex(\"User\", row[\"user_id\"], attributes)"
   ]
  },
  {
   "cell_type": "code",
   "execution_count": 31,
   "metadata": {},
   "outputs": [
    {
     "output_type": "execute_result",
     "data": {
      "text/plain": "0        None\n1        None\n2        None\n3        None\n4        None\n         ... \n19681    None\n19682    None\n19683    None\n19684    None\n19685    None\nLength: 19686, dtype: object"
     },
     "metadata": {},
     "execution_count": 31
    }
   ],
   "source": [
    "users.apply(lambda row: upsertUsers(row), axis=1)"
   ]
  },
  {
   "cell_type": "code",
   "execution_count": 32,
   "metadata": {},
   "outputs": [
    {
     "output_type": "execute_result",
     "data": {
      "text/plain": "                review_id                 user_id             business_id  \\\n0  09qxjFi4abaW66JeSLazuQ  mbdtyUUzZZx5ld1Qc4iGtQ  wkzWdo1mBqbzR2KPoXtWZw   \n1  -cRD6URpwks2GvP6qy8x4Q  6UR0kNe3C-ivlF2x1fPHNQ  WUmosjOxt_8nWByHgm8Kkg   \n2  xFjo0v7PmYWZRI3tK2WPuA  jqEbD-d5iI5nrwhfMmX_5w  8OeHn9KCbICuRBs_XiDDUA   \n3  641ca8i5v5RZK9IngojV2Q  xFSLb_pxXta5G4oaRB1ylQ  TspQ9jCczz436RiJHJQYZw   \n4  Wj2scpb-B5i58fZbyzpE5A  UER4m0CBVgcFlVbMqhCvCg  upSPwM6Fr6RHAhwagnleow   \n\n   stars  useful  funny  cool  \\\n0    4.0       1      0     0   \n1    5.0       0      0     0   \n2    4.0       1      0     0   \n3    5.0       4      3     3   \n4    5.0      18      8    12   \n\n                                                text                 date  \n0  Was a Chicago style deep dish.  Homemade type ...  2010-08-21 01:19:17  \n1  Who knew?\\n \\nI did! \\n\\nI remember eating man...  2011-01-08 23:13:25  \n2  Happy to give a strong recommendation to this ...  2013-06-24 04:49:52  \n3  Hands down the BEST kabobs in Vegas. \\n\\nI sto...  2016-03-06 23:58:31  \n4  I normally don't bother with dealing health st...  2012-03-30 00:46:54  ",
      "text/html": "<div>\n<style scoped>\n    .dataframe tbody tr th:only-of-type {\n        vertical-align: middle;\n    }\n\n    .dataframe tbody tr th {\n        vertical-align: top;\n    }\n\n    .dataframe thead th {\n        text-align: right;\n    }\n</style>\n<table border=\"1\" class=\"dataframe\">\n  <thead>\n    <tr style=\"text-align: right;\">\n      <th></th>\n      <th>review_id</th>\n      <th>user_id</th>\n      <th>business_id</th>\n      <th>stars</th>\n      <th>useful</th>\n      <th>funny</th>\n      <th>cool</th>\n      <th>text</th>\n      <th>date</th>\n    </tr>\n  </thead>\n  <tbody>\n    <tr>\n      <th>0</th>\n      <td>09qxjFi4abaW66JeSLazuQ</td>\n      <td>mbdtyUUzZZx5ld1Qc4iGtQ</td>\n      <td>wkzWdo1mBqbzR2KPoXtWZw</td>\n      <td>4.0</td>\n      <td>1</td>\n      <td>0</td>\n      <td>0</td>\n      <td>Was a Chicago style deep dish.  Homemade type ...</td>\n      <td>2010-08-21 01:19:17</td>\n    </tr>\n    <tr>\n      <th>1</th>\n      <td>-cRD6URpwks2GvP6qy8x4Q</td>\n      <td>6UR0kNe3C-ivlF2x1fPHNQ</td>\n      <td>WUmosjOxt_8nWByHgm8Kkg</td>\n      <td>5.0</td>\n      <td>0</td>\n      <td>0</td>\n      <td>0</td>\n      <td>Who knew?\\n \\nI did! \\n\\nI remember eating man...</td>\n      <td>2011-01-08 23:13:25</td>\n    </tr>\n    <tr>\n      <th>2</th>\n      <td>xFjo0v7PmYWZRI3tK2WPuA</td>\n      <td>jqEbD-d5iI5nrwhfMmX_5w</td>\n      <td>8OeHn9KCbICuRBs_XiDDUA</td>\n      <td>4.0</td>\n      <td>1</td>\n      <td>0</td>\n      <td>0</td>\n      <td>Happy to give a strong recommendation to this ...</td>\n      <td>2013-06-24 04:49:52</td>\n    </tr>\n    <tr>\n      <th>3</th>\n      <td>641ca8i5v5RZK9IngojV2Q</td>\n      <td>xFSLb_pxXta5G4oaRB1ylQ</td>\n      <td>TspQ9jCczz436RiJHJQYZw</td>\n      <td>5.0</td>\n      <td>4</td>\n      <td>3</td>\n      <td>3</td>\n      <td>Hands down the BEST kabobs in Vegas. \\n\\nI sto...</td>\n      <td>2016-03-06 23:58:31</td>\n    </tr>\n    <tr>\n      <th>4</th>\n      <td>Wj2scpb-B5i58fZbyzpE5A</td>\n      <td>UER4m0CBVgcFlVbMqhCvCg</td>\n      <td>upSPwM6Fr6RHAhwagnleow</td>\n      <td>5.0</td>\n      <td>18</td>\n      <td>8</td>\n      <td>12</td>\n      <td>I normally don't bother with dealing health st...</td>\n      <td>2012-03-30 00:46:54</td>\n    </tr>\n  </tbody>\n</table>\n</div>"
     },
     "metadata": {},
     "execution_count": 32
    }
   ],
   "source": [
    "reviews = pd.read_csv(\"yelp-normalization/out/reviews_0.01.csv\")\n",
    "reviews.head()"
   ]
  },
  {
   "cell_type": "code",
   "execution_count": 33,
   "metadata": {},
   "outputs": [],
   "source": [
    "def upsertReviews(row):\n",
    "    attributes = {\n",
    "        \"Stars\": row[\"stars\"],\n",
    "        \"Useful\": row[\"useful\"],\n",
    "        \"Funny\": row[\"funny\"],\n",
    "        \"Cool\": row[\"cool\"],\n",
    "        \"Text\": row[\"text\"],\n",
    "        \"DateOfReview\": row[\"date\"],\n",
    "        \"Testing\": trainOrTest()\n",
    "    }\n",
    "    conn.upsertVertex(\"Review\", row[\"review_id\"], attributes)\n",
    "    conn.upsertEdge(\"User\", row[\"user_id\"], \"userReview\", \"Review\", row[\"review_id\"])\n",
    "    conn.upsertEdge(\"Review\", row[\"review_id\"], \"reviewOfBusiness\", \"Business\", row[\"business_id\"])\n",
    "    conn.upsertEdge(\"User\", row[\"user_id\"], \"userVisited\", \"Business\", row[\"business_id\"])"
   ]
  },
  {
   "cell_type": "code",
   "execution_count": 34,
   "metadata": {},
   "outputs": [
    {
     "output_type": "execute_result",
     "data": {
      "text/plain": "0       None\n1       None\n2       None\n3       None\n4       None\n        ... \n6906    None\n6907    None\n6908    None\n6909    None\n6910    None\nLength: 6911, dtype: object"
     },
     "metadata": {},
     "execution_count": 34
    }
   ],
   "source": [
    "reviews.apply(lambda row: upsertReviews(row), axis=1)"
   ]
  },
  {
   "cell_type": "code",
   "execution_count": 35,
   "metadata": {},
   "outputs": [
    {
     "output_type": "execute_result",
     "data": {
      "text/plain": "                       user_id               friend_id\n104765  PeLGa5vUR8_mcsn-fn42Jg  hg4AyAMgmQGO2tx6kjo8yw\n102623  JxbOYBzGdRhI1Ip9-chmkg  _WSEZA4e9KyxF1UBkf7HOw\n18828   2Dzdq8nmh_47A5BD9hMfHA  4u8zZaT5m7nO1WazdKA2sw\n59214   c-Dja5bexzEWBufNsHfRrQ  QDS740brOYC9Gj8oNeR6_w\n295526  gIWzYF7HQ8FPhPZ8e1xhuA  IGijFPOLaeIx1xVLPde7Nw",
      "text/html": "<div>\n<style scoped>\n    .dataframe tbody tr th:only-of-type {\n        vertical-align: middle;\n    }\n\n    .dataframe tbody tr th {\n        vertical-align: top;\n    }\n\n    .dataframe thead th {\n        text-align: right;\n    }\n</style>\n<table border=\"1\" class=\"dataframe\">\n  <thead>\n    <tr style=\"text-align: right;\">\n      <th></th>\n      <th>user_id</th>\n      <th>friend_id</th>\n    </tr>\n  </thead>\n  <tbody>\n    <tr>\n      <th>104765</th>\n      <td>PeLGa5vUR8_mcsn-fn42Jg</td>\n      <td>hg4AyAMgmQGO2tx6kjo8yw</td>\n    </tr>\n    <tr>\n      <th>102623</th>\n      <td>JxbOYBzGdRhI1Ip9-chmkg</td>\n      <td>_WSEZA4e9KyxF1UBkf7HOw</td>\n    </tr>\n    <tr>\n      <th>18828</th>\n      <td>2Dzdq8nmh_47A5BD9hMfHA</td>\n      <td>4u8zZaT5m7nO1WazdKA2sw</td>\n    </tr>\n    <tr>\n      <th>59214</th>\n      <td>c-Dja5bexzEWBufNsHfRrQ</td>\n      <td>QDS740brOYC9Gj8oNeR6_w</td>\n    </tr>\n    <tr>\n      <th>295526</th>\n      <td>gIWzYF7HQ8FPhPZ8e1xhuA</td>\n      <td>IGijFPOLaeIx1xVLPde7Nw</td>\n    </tr>\n  </tbody>\n</table>\n</div>"
     },
     "metadata": {},
     "execution_count": 35
    }
   ],
   "source": [
    "friendships = pd.read_csv(\"yelp-normalization/out/friendships_0.01.csv\")\n",
    "friendships = friendships.sample(frac=0.025)\n",
    "friendships.head()"
   ]
  },
  {
   "cell_type": "code",
   "execution_count": 36,
   "metadata": {},
   "outputs": [
    {
     "output_type": "execute_result",
     "data": {
      "text/plain": "(8981, 2)"
     },
     "metadata": {},
     "execution_count": 36
    }
   ],
   "source": [
    "friendships.shape"
   ]
  },
  {
   "cell_type": "code",
   "execution_count": 37,
   "metadata": {},
   "outputs": [],
   "source": [
    "def upsertFriendships(row):\n",
    "    conn.upsertEdge(\"User\", row[\"user_id\"], \"friendsWith\", \"User\", row[\"friend_id\"])"
   ]
  },
  {
   "cell_type": "code",
   "execution_count": 38,
   "metadata": {},
   "outputs": [
    {
     "output_type": "execute_result",
     "data": {
      "text/plain": "104765    None\n102623    None\n18828     None\n59214     None\n295526    None\n          ... \n202073    None\n323292    None\n269690    None\n46660     None\n349068    None\nLength: 8981, dtype: object"
     },
     "metadata": {},
     "execution_count": 38
    }
   ],
   "source": [
    "friendships.apply(lambda row: upsertFriendships(row), axis=1)"
   ]
  },
  {
   "cell_type": "code",
   "execution_count": null,
   "metadata": {},
   "outputs": [],
   "source": []
  }
 ],
 "metadata": {
  "language_info": {
   "codemirror_mode": {
    "name": "ipython",
    "version": 3
   },
   "file_extension": ".py",
   "mimetype": "text/x-python",
   "name": "python",
   "nbconvert_exporter": "python",
   "pygments_lexer": "ipython3",
   "version": "3.6.9-final"
  },
  "orig_nbformat": 2,
  "kernelspec": {
   "name": "python36964bit737e1f7203fe454596dbc919479bfb9c",
   "display_name": "Python 3.6.9 64-bit"
  }
 },
 "nbformat": 4,
 "nbformat_minor": 2
}